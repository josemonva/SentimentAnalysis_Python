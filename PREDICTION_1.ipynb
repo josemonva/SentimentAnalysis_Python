{
 "cells": [
  {
   "cell_type": "code",
   "execution_count": 1,
   "metadata": {},
   "outputs": [
    {
     "name": "stderr",
     "output_type": "stream",
     "text": [
      "C:\\Users\\u69205\\AppData\\Local\\Continuum\\anaconda3\\lib\\site-packages\\h5py\\__init__.py:36: FutureWarning: Conversion of the second argument of issubdtype from `float` to `np.floating` is deprecated. In future, it will be treated as `np.float64 == np.dtype(float).type`.\n",
      "  from ._conv import register_converters as _register_converters\n"
     ]
    }
   ],
   "source": [
    "import numpy as np\n",
    "import tensorflow as tf"
   ]
  },
  {
   "cell_type": "markdown",
   "metadata": {},
   "source": [
    "#  LSTM Parameters"
   ]
  },
  {
   "cell_type": "code",
   "execution_count": 2,
   "metadata": {},
   "outputs": [],
   "source": [
    "batchSize = 24\n",
    "lstmUnits = 64\n",
    "numClasses = 2\n",
    "numDimensions = 300\n",
    "maxSeqLength=250"
   ]
  },
  {
   "cell_type": "code",
   "execution_count": 3,
   "metadata": {},
   "outputs": [],
   "source": [
    "wordsList = np.load('wordsList.npy').tolist()\n",
    "wordsList = [word.decode('UTF-8') for word in wordsList] #Encode words as UTF-8\n",
    "wordVectors = np.load('wordVectors.npy')"
   ]
  },
  {
   "cell_type": "code",
   "execution_count": 4,
   "metadata": {},
   "outputs": [],
   "source": [
    "tf.reset_default_graph()\n",
    "\n",
    "labels = tf.placeholder(tf.float32, [batchSize, numClasses])\n",
    "input_data = tf.placeholder(tf.int32, [batchSize, maxSeqLength])\n",
    "\n",
    "data = tf.Variable(tf.zeros([batchSize, maxSeqLength, numDimensions]),dtype=tf.float32)\n",
    "data = tf.nn.embedding_lookup(wordVectors,input_data)\n",
    "\n",
    "lstmCell = tf.contrib.rnn.BasicLSTMCell(lstmUnits)\n",
    "lstmCell = tf.contrib.rnn.DropoutWrapper(cell=lstmCell, output_keep_prob=0.25)\n",
    "value, _ = tf.nn.dynamic_rnn(lstmCell, data, dtype=tf.float32)\n",
    "\n",
    "weight = tf.Variable(tf.truncated_normal([lstmUnits, numClasses]))\n",
    "bias = tf.Variable(tf.constant(0.1, shape=[numClasses]))\n",
    "value = tf.transpose(value, [1, 0, 2])\n",
    "last = tf.gather(value, int(value.get_shape()[0]) - 1)\n",
    "prediction = (tf.matmul(last, weight) + bias)\n",
    "\n",
    "correctPred = tf.equal(tf.argmax(prediction,1), tf.argmax(labels,1))\n",
    "accuracy = tf.reduce_mean(tf.cast(correctPred, tf.float32))"
   ]
  },
  {
   "cell_type": "code",
   "execution_count": 5,
   "metadata": {},
   "outputs": [
    {
     "name": "stdout",
     "output_type": "stream",
     "text": [
      "INFO:tensorflow:Restoring parameters from models\\pretrained_lstm.ckpt-59999\n"
     ]
    }
   ],
   "source": [
    "sess = tf.InteractiveSession()\n",
    "saver = tf.train.Saver()\n",
    "saver.restore(sess, tf.train.latest_checkpoint('models'))"
   ]
  },
  {
   "cell_type": "markdown",
   "metadata": {},
   "source": [
    "# Helper Functions"
   ]
  },
  {
   "cell_type": "code",
   "execution_count": 6,
   "metadata": {},
   "outputs": [],
   "source": [
    "# Removes punctuation, parentheses, question marks, etc., and leaves only alphanumeric characters\n",
    "import re\n",
    "strip_special_chars = re.compile(\"[^A-Za-z0-9 ]+\")\n",
    "\n",
    "def cleanSentences(string):\n",
    "    string = string.lower().replace(\"<br />\", \" \")\n",
    "    return re.sub(strip_special_chars, \"\", string.lower())\n",
    "\n",
    "def getSentenceMatrix(sentence):\n",
    "    arr = np.zeros([batchSize, maxSeqLength])\n",
    "    sentenceMatrix = np.zeros([batchSize,maxSeqLength], dtype='int32')\n",
    "    cleanedSentence = cleanSentences(sentence)\n",
    "    split = cleanedSentence.split()\n",
    "    \n",
    "    if len(split) > 250:\n",
    "        split = split[0:250]\n",
    "    \n",
    "    for indexCounter,word in enumerate(split):\n",
    "        try:\n",
    "            sentenceMatrix[0,indexCounter] = wordsList.index(word)\n",
    "        except ValueError:\n",
    "            sentenceMatrix[0,indexCounter] = 399999 #Vector for unkown words\n",
    "    return sentenceMatrix"
   ]
  },
  {
   "cell_type": "markdown",
   "metadata": {},
   "source": [
    "# New Data"
   ]
  },
  {
   "cell_type": "code",
   "execution_count": 7,
   "metadata": {},
   "outputs": [
    {
     "name": "stdout",
     "output_type": "stream",
     "text": [
      "Negative Sentiment\n"
     ]
    }
   ],
   "source": [
    "inputText = \"That movie was terrible.\"\n",
    "#inputText = \"A great movie\"\n",
    "inputMatrix = getSentenceMatrix(inputText)\n",
    "predictedSentiment = sess.run(prediction, {input_data: inputMatrix})[0]\n",
    "print('Positive Sentiment' if predictedSentiment[0] > predictedSentiment[1] else 'Negative Sentiment')"
   ]
  },
  {
   "cell_type": "code",
   "execution_count": null,
   "metadata": {},
   "outputs": [],
   "source": []
  },
  {
   "cell_type": "code",
   "execution_count": 8,
   "metadata": {},
   "outputs": [
    {
     "name": "stdout",
     "output_type": "stream",
     "text": [
      "Negative Sentiment\n"
     ]
    }
   ],
   "source": [
    "#Ex 2\n",
    "inputText = \"Elon Musk, Ray Kurzweil and others outline the power of big data and existing computer systems, and describe how such technologies have already manipulated world events, particularly recent elections. Worse yet are predictions that robots will displace millions of workers, and that autonomous weapons could wage unsupervised war. Though the film is heavier on summaries than specifics, its messages are troubling nonetheless.\"\n",
    "inputMatrix = getSentenceMatrix(inputText)\n",
    "predictedSentiment = sess.run(prediction, {input_data: inputMatrix})[0]\n",
    "print('Positive Sentiment' if predictedSentiment[0] > predictedSentiment[1] else 'Negative Sentiment')"
   ]
  },
  {
   "cell_type": "code",
   "execution_count": null,
   "metadata": {},
   "outputs": [],
   "source": []
  },
  {
   "cell_type": "code",
   "execution_count": 9,
   "metadata": {},
   "outputs": [
    {
     "name": "stdout",
     "output_type": "stream",
     "text": [
      "Positive Sentiment\n"
     ]
    }
   ],
   "source": [
    "#https://www.nytimes.com/2018/08/16/movies/do-you-trust-this-computer-review.html?rref=collection%2Fcollection%2Fmovie-guide&action=click&contentCollection=undefined&region=stream&module=stream_unit&version=latest-stories&contentPlacement=8&pgtype=collection\n",
    "inputText=\"We’ve opened Pandora’s box: We’ve unleashed forces that we can’t control, and we can’t stop. We’re in the midst of essentially creating a new life form on Earth.\"\n",
    "inputText=inputText + \" Had that quote come at the start of “Do You Trust This Computer?” you might think it hyperbole. Yet it’s said at the end. By then the remark seems an understatement.\"\n",
    "inputText=inputText + \" This part-scary, part-spellbinding documentary, directed by Chris Paine (Who Killed the Electric Car?), talks to a gaggle of experts about current artificial intelligence and about what the future appears destined to bring. Their warnings are so dire that you may start peering sideways at your cellphone, wondering what it’s thinking.\"\n",
    "inputText=inputText + \" Elon Musk, Ray Kurzweil and others outline the power of big data and existing computer systems, and describe how such technologies have already manipulated world events, particularly recent elections. Worse yet are predictions that robots will displace millions of workers, and that autonomous weapons could wage unsupervised war. Though the film is heavier on summaries than specifics, its messages are troubling nonetheless.\"\n",
    "inputText=inputText + \" To avoid a nonstop scarefest, Mr. Paine throws in a few old movie clips and allows for a bit of optimism. But the interviewees aren’t budging, and the soundtrack sets a consistently menacing tone.\"\n",
    "inputText=inputText + \" Slick cuts and glossy images make Do You Trust This Computer? a sleek and engaging watch. Sections on the possibility of artificial consciousness would flabbergast even Philip K. Dick. Still, anxiety runs underneath most of its mind-blowing ideas. We’re told that we may be just a few years away from technologies that are beyond human control. Worry about that if you like, though in the words of one researcher here: I’m not sure it’s going to help.\"\n",
    "inputMatrix = getSentenceMatrix(inputText)\n",
    "predictedSentiment = sess.run(prediction, {input_data: inputMatrix})[0]\n",
    "print('Positive Sentiment' if predictedSentiment[0] > predictedSentiment[1] else 'Negative Sentiment')"
   ]
  },
  {
   "cell_type": "code",
   "execution_count": null,
   "metadata": {},
   "outputs": [],
   "source": []
  },
  {
   "cell_type": "code",
   "execution_count": 10,
   "metadata": {},
   "outputs": [
    {
     "name": "stdout",
     "output_type": "stream",
     "text": [
      "Positive Sentiment\n"
     ]
    }
   ],
   "source": [
    "# https://www.nytimes.com/2018/08/23/movies/support-the-girls-review-regina-hall.html?rref=collection%2Fcollection%2Fmovie-guide&action=click&contentCollection=undefined&region=stream&module=stream_unit&version=latest-stories&contentPlacement=2&pgtype=collection\n",
    "# movie name: Support the girls (genre: Comedy)\n",
    "\n",
    "inputText = 'Ms. Hall, who appears in almost every scene, is the movie’s animating force. In contrast to Ms. Richardson and Ms. McHayle, who deliver delightful, contrapuntal comic performances, Ms. Hall has to play it fairly straight. Lisa whirls through her day (when she pauses, her body sinks and you feel her fatigue), often with a smile that seems on the verge of breaking. You can see a lifetime in that smile. In moments, as it trembles and almost disappears, and as Ms. Hall’s eyes gently widen and her face briefly freezes, you clearly see both the mask and the woman who wears it. You also see what it takes to be a woman in this man’s world — the spirit, grit, pain and, of course, laughter.'\n",
    "inputMatrix = getSentenceMatrix(inputText)\n",
    "predictedSentiment = sess.run(prediction, {input_data: inputMatrix})[0]\n",
    "print('Positive Sentiment' if predictedSentiment[0] > predictedSentiment[1] else 'Negative Sentiment')"
   ]
  },
  {
   "cell_type": "code",
   "execution_count": null,
   "metadata": {},
   "outputs": [],
   "source": []
  },
  {
   "cell_type": "code",
   "execution_count": 11,
   "metadata": {},
   "outputs": [
    {
     "name": "stdout",
     "output_type": "stream",
     "text": [
      "Positive Sentiment\n"
     ]
    }
   ],
   "source": [
    "# https://www.nytimes.com/2018/08/16/movies/down-a-dark-hall-review-uma-thurman.html?rref=collection%2Fcollection%2Fmovie-guide\n",
    "# movie name: down a dark hall (genre: horror)\n",
    "\n",
    "inputText='When Ms. Thurman saunters onscreen, sporting a smirk to match her loopy accent, it’s as much of a shock as the film’s first spectral scares. With each new element, “Down a Dark Hall” reveals itself, with improbable delight, to be genuinely strange — a movie in which viewers can pick their own pleasure, no two spectators having exactly the same experience.'\n",
    "nputMatrix = getSentenceMatrix(inputText)\n",
    "predictedSentiment = sess.run(prediction, {input_data: inputMatrix})[0]\n",
    "print('Positive Sentiment' if predictedSentiment[0] > predictedSentiment[1] else 'Negative Sentiment')"
   ]
  },
  {
   "cell_type": "code",
   "execution_count": null,
   "metadata": {},
   "outputs": [],
   "source": []
  },
  {
   "cell_type": "code",
   "execution_count": 12,
   "metadata": {},
   "outputs": [
    {
     "name": "stdout",
     "output_type": "stream",
     "text": [
      "Positive Sentiment\n"
     ]
    }
   ],
   "source": [
    "# https://www.nytimes.com/2018/08/16/movies/do-you-trust-this-computer-review.html?rref=collection%2Fcollection%2Fmovie-guide\n",
    "# movie name: down a dark hall (genre: horror)\n",
    "\n",
    "inputText='Elon Musk, Ray Kurzweil and others outline the power of big data and existing computer systems, and describe how such technologies have already manipulated world events, particularly recent elections. Worse yet are predictions that robots will displace millions of workers, and that autonomous weapons could wage unsupervised war. Though the film is heavier on summaries than specifics, its messages are troubling nonetheless.'\n",
    "nputMatrix = getSentenceMatrix(inputText)\n",
    "predictedSentiment = sess.run(prediction, {input_data: inputMatrix})[0]\n",
    "print('Positive Sentiment' if predictedSentiment[0] > predictedSentiment[1] else 'Negative Sentiment')"
   ]
  },
  {
   "cell_type": "code",
   "execution_count": null,
   "metadata": {},
   "outputs": [],
   "source": []
  },
  {
   "cell_type": "code",
   "execution_count": 13,
   "metadata": {},
   "outputs": [
    {
     "name": "stdout",
     "output_type": "stream",
     "text": [
      "Negative Sentiment\n"
     ]
    }
   ],
   "source": [
    "# https://www.avclub.com/the-20-worst-films-of-2017-1821319277\n",
    "# film: The House\n",
    "inputText='Sorry, Chano: Although there’s a germ of a subversive satire somewhere in this not-screened-for-critics item about a couple of anxious suburban squares (Will Ferrell and Amy Poehler) who open an illegal casino in their neighbor’s foreclosed McMansion in order to pay their daughter’s college tuition, it’s lost in the incoherent, lazy direction and writing. The House is everything that’s wrong with the current studio comedy model (“put comedians in a room, roll camera”) packed into a single movie, from the cynically clumsy and hectic pace to the drawn-out, torturous improvisations. The only thing that’s even mildly funny about the film is its shocking nastiness. [Ignatiy Vishnevetsky]'\n",
    "inputMatrix = getSentenceMatrix(inputText)\n",
    "predictedSentiment = sess.run(prediction, {input_data: inputMatrix})[0]\n",
    "print('Positive Sentiment' if predictedSentiment[0] > predictedSentiment[1] else 'Negative Sentiment')"
   ]
  },
  {
   "cell_type": "code",
   "execution_count": null,
   "metadata": {},
   "outputs": [],
   "source": []
  },
  {
   "cell_type": "code",
   "execution_count": 14,
   "metadata": {},
   "outputs": [
    {
     "name": "stdout",
     "output_type": "stream",
     "text": [
      "Negative Sentiment\n"
     ]
    }
   ],
   "source": [
    "# https://timesofindia.indiatimes.com/entertainment/hindi/movie-reviews/missing/movie-review/63633283.cms\n",
    "# film: Missing\n",
    "inputText = 'What good is a thriller that’s not thrilling? It gets worse when you start laughing at a mystery movie. Any and all prospect of this film is lost in the midst of shoddy filmmaking.'\n",
    "inputMatrix = getSentenceMatrix(inputText)\n",
    "predictedSentiment = sess.run(prediction, {input_data: inputMatrix})[0]\n",
    "print('Positive Sentiment' if predictedSentiment[0] > predictedSentiment[1] else 'Negative Sentiment')"
   ]
  },
  {
   "cell_type": "code",
   "execution_count": null,
   "metadata": {},
   "outputs": [],
   "source": []
  },
  {
   "cell_type": "markdown",
   "metadata": {},
   "source": [
    "# Interactive Mode"
   ]
  },
  {
   "cell_type": "code",
   "execution_count": 15,
   "metadata": {},
   "outputs": [
    {
     "name": "stdout",
     "output_type": "stream",
     "text": [
      "Enter your review:i am bad\n",
      "Negative Sentiment\n"
     ]
    }
   ],
   "source": [
    "inputText = input('Enter your review:')\n",
    "inputMatrix = getSentenceMatrix(inputText)\n",
    "predictedSentiment = sess.run(prediction, {input_data: inputMatrix})[0]\n",
    "print('Positive Sentiment' if predictedSentiment[0] > predictedSentiment[1] else 'Negative Sentiment')"
   ]
  }
 ],
 "metadata": {
  "kernelspec": {
   "display_name": "Python 3",
   "language": "python",
   "name": "python3"
  },
  "language_info": {
   "codemirror_mode": {
    "name": "ipython",
    "version": 3
   },
   "file_extension": ".py",
   "mimetype": "text/x-python",
   "name": "python",
   "nbconvert_exporter": "python",
   "pygments_lexer": "ipython3",
   "version": "3.6.4"
  }
 },
 "nbformat": 4,
 "nbformat_minor": 2
}
